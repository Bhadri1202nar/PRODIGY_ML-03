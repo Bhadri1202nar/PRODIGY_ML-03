{
 "cells": [
  {
   "cell_type": "raw",
   "id": "4de9db57",
   "metadata": {
    "_cell_guid": "b1076dfc-b9ad-4769-8c92-a6c4dae69d19",
    "_uuid": "8f2839f25d086af736a60e9eeb907d3b93b6e0e5",
    "papermill": {
     "duration": 0.006277,
     "end_time": "2023-12-16T10:56:13.767798",
     "exception": false,
     "start_time": "2023-12-16T10:56:13.761521",
     "status": "completed"
    },
    "tags": []
   },
   "source": [
    "# This Python 3 environment comes with many helpful analytics libraries installed\n",
    "# It is defined by the kaggle/python Docker image: https://github.com/kaggle/docker-python\n",
    "# For example, here's several helpful packages to load\n",
    "\n",
    "import numpy as np # linear algebra\n",
    "import pandas as pd # data processing, CSV file I/O (e.g. pd.read_csv)\n",
    "\n",
    "# Input data files are available in the read-only \"../input/\" directory\n",
    "# For example, running this (by clicking run or pressing Shift+Enter) will list all files under the input directory\n",
    "\n",
    "import os\n",
    "for dirname, _, filenames in os.walk('/kaggle/input'):\n",
    "    for filename in filenames:\n",
    "        print(os.path.join(dirname, filename))\n",
    "\n",
    "# You can write up to 20GB to the current directory (/kaggle/working/) that gets preserved as output when you create a version using \"Save & Run All\" \n",
    "# You can also write temporary files to /kaggle/temp/, but they won't be saved outside of the current session"
   ]
  },
  {
   "cell_type": "code",
   "execution_count": 1,
   "id": "da3d735f",
   "metadata": {
    "execution": {
     "iopub.execute_input": "2023-12-16T10:56:13.782324Z",
     "iopub.status.busy": "2023-12-16T10:56:13.781857Z",
     "iopub.status.idle": "2023-12-16T10:56:31.029329Z",
     "shell.execute_reply": "2023-12-16T10:56:31.028116Z"
    },
    "papermill": {
     "duration": 17.258454,
     "end_time": "2023-12-16T10:56:31.032437",
     "exception": false,
     "start_time": "2023-12-16T10:56:13.773983",
     "status": "completed"
    },
    "tags": []
   },
   "outputs": [],
   "source": [
    "import tensorflow as tf\n",
    "import pandas as pd\n",
    "import numpy as np\n",
    "import seaborn as sns\n",
    "import matplotlib.pyplot as plt\n",
    "from sklearn.metrics import confusion_matrix,classification_report"
   ]
  },
  {
   "cell_type": "code",
   "execution_count": 2,
   "id": "5dcf5723",
   "metadata": {
    "execution": {
     "iopub.execute_input": "2023-12-16T10:56:31.046542Z",
     "iopub.status.busy": "2023-12-16T10:56:31.045702Z",
     "iopub.status.idle": "2023-12-16T10:56:31.052040Z",
     "shell.execute_reply": "2023-12-16T10:56:31.050699Z"
    },
    "papermill": {
     "duration": 0.016509,
     "end_time": "2023-12-16T10:56:31.054845",
     "exception": false,
     "start_time": "2023-12-16T10:56:31.038336",
     "status": "completed"
    },
    "tags": []
   },
   "outputs": [],
   "source": [
    "batch_size=32\n",
    "num_classes=10\n",
    "epochs=100"
   ]
  },
  {
   "cell_type": "code",
   "execution_count": 3,
   "id": "7ce30ca9",
   "metadata": {
    "execution": {
     "iopub.execute_input": "2023-12-16T10:56:31.068257Z",
     "iopub.status.busy": "2023-12-16T10:56:31.067806Z",
     "iopub.status.idle": "2023-12-16T10:56:31.209893Z",
     "shell.execute_reply": "2023-12-16T10:56:31.208708Z"
    },
    "papermill": {
     "duration": 0.152399,
     "end_time": "2023-12-16T10:56:31.213052",
     "exception": false,
     "start_time": "2023-12-16T10:56:31.060653",
     "status": "completed"
    },
    "tags": []
   },
   "outputs": [],
   "source": [
    "from tensorflow.keras.datasets import cifar10"
   ]
  },
  {
   "cell_type": "code",
   "execution_count": 4,
   "id": "ec4e0098",
   "metadata": {
    "execution": {
     "iopub.execute_input": "2023-12-16T10:56:31.227193Z",
     "iopub.status.busy": "2023-12-16T10:56:31.226699Z",
     "iopub.status.idle": "2023-12-16T10:56:38.178824Z",
     "shell.execute_reply": "2023-12-16T10:56:38.177355Z"
    },
    "papermill": {
     "duration": 6.96345,
     "end_time": "2023-12-16T10:56:38.182521",
     "exception": false,
     "start_time": "2023-12-16T10:56:31.219071",
     "status": "completed"
    },
    "tags": []
   },
   "outputs": [
    {
     "name": "stdout",
     "output_type": "stream",
     "text": [
      "Downloading data from https://www.cs.toronto.edu/~kriz/cifar-10-python.tar.gz\n",
      "170498071/170498071 [==============================] - 3s 0us/step\n"
     ]
    }
   ],
   "source": [
    "(X_train,Y_train),(X_test,Y_test)=cifar10.load_data()"
   ]
  },
  {
   "cell_type": "code",
   "execution_count": 5,
   "id": "df2636bd",
   "metadata": {
    "execution": {
     "iopub.execute_input": "2023-12-16T10:56:38.209091Z",
     "iopub.status.busy": "2023-12-16T10:56:38.208579Z",
     "iopub.status.idle": "2023-12-16T10:56:38.216621Z",
     "shell.execute_reply": "2023-12-16T10:56:38.215259Z"
    },
    "papermill": {
     "duration": 0.02528,
     "end_time": "2023-12-16T10:56:38.220460",
     "exception": false,
     "start_time": "2023-12-16T10:56:38.195180",
     "status": "completed"
    },
    "tags": []
   },
   "outputs": [
    {
     "name": "stdout",
     "output_type": "stream",
     "text": [
      "X_train Shape: (50000, 32, 32, 3)\n",
      "Y_train Shape: (50000, 1)\n",
      "X_test Shape: (10000, 32, 32, 3)\n",
      "Y_test Shape: (10000, 1)\n"
     ]
    }
   ],
   "source": [
    "print('X_train Shape: {}'.format(X_train.shape))\n",
    "print('Y_train Shape: {}'.format(Y_train.shape))\n",
    "print('X_test Shape: {}'.format(X_test.shape))\n",
    "print('Y_test Shape: {}'.format(Y_test.shape))"
   ]
  },
  {
   "cell_type": "code",
   "execution_count": 6,
   "id": "9a630cf4",
   "metadata": {
    "execution": {
     "iopub.execute_input": "2023-12-16T10:56:38.247561Z",
     "iopub.status.busy": "2023-12-16T10:56:38.247058Z",
     "iopub.status.idle": "2023-12-16T10:56:39.898720Z",
     "shell.execute_reply": "2023-12-16T10:56:39.897287Z"
    },
    "papermill": {
     "duration": 1.668616,
     "end_time": "2023-12-16T10:56:39.902105",
     "exception": false,
     "start_time": "2023-12-16T10:56:38.233489",
     "status": "completed"
    },
    "tags": []
   },
   "outputs": [],
   "source": [
    "X_train=X_train/255\n",
    "X_test=X_test/255"
   ]
  },
  {
   "cell_type": "code",
   "execution_count": 7,
   "id": "8696f33a",
   "metadata": {
    "execution": {
     "iopub.execute_input": "2023-12-16T10:56:39.927966Z",
     "iopub.status.busy": "2023-12-16T10:56:39.927484Z",
     "iopub.status.idle": "2023-12-16T10:56:39.938414Z",
     "shell.execute_reply": "2023-12-16T10:56:39.937430Z"
    },
    "papermill": {
     "duration": 0.027007,
     "end_time": "2023-12-16T10:56:39.941074",
     "exception": false,
     "start_time": "2023-12-16T10:56:39.914067",
     "status": "completed"
    },
    "tags": []
   },
   "outputs": [],
   "source": [
    "#Encoding the data is important because colours must be converted to numerical data for preprocessing\n",
    "Y_train_en=tf.keras.utils.to_categorical(Y_train,10)\n",
    "Y_test_en=tf.keras.utils.to_categorical(Y_test,10)"
   ]
  },
  {
   "cell_type": "code",
   "execution_count": 8,
   "id": "7bb0d60a",
   "metadata": {
    "execution": {
     "iopub.execute_input": "2023-12-16T10:56:39.967620Z",
     "iopub.status.busy": "2023-12-16T10:56:39.966820Z",
     "iopub.status.idle": "2023-12-16T10:56:40.505606Z",
     "shell.execute_reply": "2023-12-16T10:56:40.504222Z"
    },
    "papermill": {
     "duration": 0.555994,
     "end_time": "2023-12-16T10:56:40.508960",
     "exception": false,
     "start_time": "2023-12-16T10:56:39.952966",
     "status": "completed"
    },
    "tags": []
   },
   "outputs": [],
   "source": [
    "model=tf.keras.Sequential([\n",
    "    tf.keras.layers.Conv2D(32, (4, 4), activation=\"relu\",input_shape=(32, 32, 3)),\n",
    "    tf.keras.layers.MaxPooling2D((2, 2)),\n",
    "    tf.keras.layers.Conv2D(32, (4, 4), activation=\"relu\",input_shape=(32, 32, 3)),\n",
    "    tf.keras.layers.MaxPooling2D((2, 2)),\n",
    "    tf.keras.layers.Flatten(),\n",
    "    tf.keras.layers.Dense(128, activation='relu'),\n",
    "    tf.keras.layers.Dense(units=10, activation='softmax')])"
   ]
  },
  {
   "cell_type": "code",
   "execution_count": 9,
   "id": "5c4accbf",
   "metadata": {
    "execution": {
     "iopub.execute_input": "2023-12-16T10:56:40.535659Z",
     "iopub.status.busy": "2023-12-16T10:56:40.534741Z",
     "iopub.status.idle": "2023-12-16T10:56:40.558015Z",
     "shell.execute_reply": "2023-12-16T10:56:40.556700Z"
    },
    "papermill": {
     "duration": 0.040451,
     "end_time": "2023-12-16T10:56:40.561552",
     "exception": false,
     "start_time": "2023-12-16T10:56:40.521101",
     "status": "completed"
    },
    "tags": []
   },
   "outputs": [],
   "source": [
    "model.compile(loss ='categorical_crossentropy', optimizer ='adam', metrics =['accuracy'])"
   ]
  },
  {
   "cell_type": "code",
   "execution_count": 10,
   "id": "b82fb36f",
   "metadata": {
    "execution": {
     "iopub.execute_input": "2023-12-16T10:56:40.588976Z",
     "iopub.status.busy": "2023-12-16T10:56:40.588084Z",
     "iopub.status.idle": "2023-12-16T11:13:17.940868Z",
     "shell.execute_reply": "2023-12-16T11:13:17.938883Z"
    },
    "papermill": {
     "duration": 997.373835,
     "end_time": "2023-12-16T11:13:17.947887",
     "exception": false,
     "start_time": "2023-12-16T10:56:40.574052",
     "status": "completed"
    },
    "tags": []
   },
   "outputs": [
    {
     "name": "stdout",
     "output_type": "stream",
     "text": [
      "Model: \"sequential\"\n",
      "_________________________________________________________________\n",
      " Layer (type)                Output Shape              Param #   \n",
      "=================================================================\n",
      " conv2d (Conv2D)             (None, 29, 29, 32)        1568      \n",
      "                                                                 \n",
      " max_pooling2d (MaxPooling2  (None, 14, 14, 32)        0         \n",
      " D)                                                              \n",
      "                                                                 \n",
      " conv2d_1 (Conv2D)           (None, 11, 11, 32)        16416     \n",
      "                                                                 \n",
      " max_pooling2d_1 (MaxPoolin  (None, 5, 5, 32)          0         \n",
      " g2D)                                                            \n",
      "                                                                 \n",
      " flatten (Flatten)           (None, 800)               0         \n",
      "                                                                 \n",
      " dense (Dense)               (None, 128)               102528    \n",
      "                                                                 \n",
      " dense_1 (Dense)             (None, 10)                1290      \n",
      "                                                                 \n",
      "=================================================================\n",
      "Total params: 121802 (475.79 KB)\n",
      "Trainable params: 121802 (475.79 KB)\n",
      "Non-trainable params: 0 (0.00 Byte)\n",
      "_________________________________________________________________\n",
      "Epoch 1/30\n",
      "1563/1563 [==============================] - 35s 22ms/step - loss: 1.5027 - accuracy: 0.4564 - val_loss: 1.2682 - val_accuracy: 0.5444\n",
      "Epoch 2/30\n",
      "1563/1563 [==============================] - 34s 22ms/step - loss: 1.1865 - accuracy: 0.5809 - val_loss: 1.1809 - val_accuracy: 0.5847\n",
      "Epoch 3/30\n",
      "1563/1563 [==============================] - 33s 21ms/step - loss: 1.0540 - accuracy: 0.6284 - val_loss: 1.0682 - val_accuracy: 0.6283\n",
      "Epoch 4/30\n",
      "1563/1563 [==============================] - 33s 21ms/step - loss: 0.9620 - accuracy: 0.6631 - val_loss: 1.0275 - val_accuracy: 0.6444\n",
      "Epoch 5/30\n",
      "1563/1563 [==============================] - 33s 21ms/step - loss: 0.8922 - accuracy: 0.6893 - val_loss: 1.0380 - val_accuracy: 0.6467\n",
      "Epoch 6/30\n",
      "1563/1563 [==============================] - 33s 21ms/step - loss: 0.8312 - accuracy: 0.7087 - val_loss: 0.9792 - val_accuracy: 0.6634\n",
      "Epoch 7/30\n",
      "1563/1563 [==============================] - 33s 21ms/step - loss: 0.7784 - accuracy: 0.7270 - val_loss: 0.9681 - val_accuracy: 0.6706\n",
      "Epoch 8/30\n",
      "1563/1563 [==============================] - 33s 21ms/step - loss: 0.7313 - accuracy: 0.7444 - val_loss: 0.9920 - val_accuracy: 0.6687\n",
      "Epoch 9/30\n",
      "1563/1563 [==============================] - 32s 21ms/step - loss: 0.6907 - accuracy: 0.7586 - val_loss: 1.0253 - val_accuracy: 0.6652\n",
      "Epoch 10/30\n",
      "1563/1563 [==============================] - 33s 21ms/step - loss: 0.6473 - accuracy: 0.7712 - val_loss: 1.0235 - val_accuracy: 0.6704\n",
      "Epoch 11/30\n",
      "1563/1563 [==============================] - 33s 21ms/step - loss: 0.6086 - accuracy: 0.7837 - val_loss: 1.0300 - val_accuracy: 0.6825\n",
      "Epoch 12/30\n",
      "1563/1563 [==============================] - 33s 21ms/step - loss: 0.5731 - accuracy: 0.7980 - val_loss: 1.0208 - val_accuracy: 0.6758\n",
      "Epoch 13/30\n",
      "1563/1563 [==============================] - 32s 21ms/step - loss: 0.5344 - accuracy: 0.8117 - val_loss: 1.0737 - val_accuracy: 0.6693\n",
      "Epoch 14/30\n",
      "1563/1563 [==============================] - 33s 21ms/step - loss: 0.5032 - accuracy: 0.8216 - val_loss: 1.1052 - val_accuracy: 0.6766\n",
      "Epoch 15/30\n",
      "1563/1563 [==============================] - 33s 21ms/step - loss: 0.4687 - accuracy: 0.8335 - val_loss: 1.1553 - val_accuracy: 0.6684\n",
      "Epoch 16/30\n",
      "1563/1563 [==============================] - 33s 21ms/step - loss: 0.4463 - accuracy: 0.8411 - val_loss: 1.1730 - val_accuracy: 0.6707\n",
      "Epoch 17/30\n",
      "1563/1563 [==============================] - 33s 21ms/step - loss: 0.4140 - accuracy: 0.8518 - val_loss: 1.2081 - val_accuracy: 0.6768\n",
      "Epoch 18/30\n",
      "1563/1563 [==============================] - 32s 21ms/step - loss: 0.3951 - accuracy: 0.8590 - val_loss: 1.2783 - val_accuracy: 0.6684\n",
      "Epoch 19/30\n",
      "1563/1563 [==============================] - 33s 21ms/step - loss: 0.3661 - accuracy: 0.8688 - val_loss: 1.3323 - val_accuracy: 0.6719\n",
      "Epoch 20/30\n",
      "1563/1563 [==============================] - 33s 21ms/step - loss: 0.3480 - accuracy: 0.8736 - val_loss: 1.3690 - val_accuracy: 0.6588\n",
      "Epoch 21/30\n",
      "1563/1563 [==============================] - 33s 21ms/step - loss: 0.3159 - accuracy: 0.8875 - val_loss: 1.4858 - val_accuracy: 0.6611\n",
      "Epoch 22/30\n",
      "1563/1563 [==============================] - 33s 21ms/step - loss: 0.3038 - accuracy: 0.8904 - val_loss: 1.5089 - val_accuracy: 0.6666\n",
      "Epoch 23/30\n",
      "1563/1563 [==============================] - 33s 21ms/step - loss: 0.2886 - accuracy: 0.8967 - val_loss: 1.5721 - val_accuracy: 0.6661\n",
      "Epoch 24/30\n",
      "1563/1563 [==============================] - 33s 21ms/step - loss: 0.2681 - accuracy: 0.9042 - val_loss: 1.6790 - val_accuracy: 0.6592\n",
      "Epoch 25/30\n",
      "1563/1563 [==============================] - 33s 21ms/step - loss: 0.2538 - accuracy: 0.9078 - val_loss: 1.7193 - val_accuracy: 0.6586\n",
      "Epoch 26/30\n",
      "1563/1563 [==============================] - 33s 21ms/step - loss: 0.2410 - accuracy: 0.9122 - val_loss: 1.8023 - val_accuracy: 0.6550\n",
      "Epoch 27/30\n",
      "1563/1563 [==============================] - 33s 21ms/step - loss: 0.2309 - accuracy: 0.9154 - val_loss: 1.8864 - val_accuracy: 0.6640\n",
      "Epoch 28/30\n",
      "1563/1563 [==============================] - 33s 21ms/step - loss: 0.2181 - accuracy: 0.9222 - val_loss: 1.8725 - val_accuracy: 0.6583\n",
      "Epoch 29/30\n",
      "1563/1563 [==============================] - 33s 21ms/step - loss: 0.2066 - accuracy: 0.9257 - val_loss: 2.0054 - val_accuracy: 0.6577\n",
      "Epoch 30/30\n",
      "1563/1563 [==============================] - 36s 23ms/step - loss: 0.2013 - accuracy: 0.9267 - val_loss: 2.0733 - val_accuracy: 0.6522\n"
     ]
    }
   ],
   "source": [
    "model.summary()\n",
    "history=model.fit(X_train, Y_train_en, epochs = 30, verbose=1,validation_data=(X_test,Y_test_en))"
   ]
  },
  {
   "cell_type": "code",
   "execution_count": 11,
   "id": "9bf80ace",
   "metadata": {
    "execution": {
     "iopub.execute_input": "2023-12-16T11:13:21.393218Z",
     "iopub.status.busy": "2023-12-16T11:13:21.391900Z",
     "iopub.status.idle": "2023-12-16T11:13:21.585704Z",
     "shell.execute_reply": "2023-12-16T11:13:21.584690Z"
    },
    "papermill": {
     "duration": 1.943857,
     "end_time": "2023-12-16T11:13:21.588715",
     "exception": false,
     "start_time": "2023-12-16T11:13:19.644858",
     "status": "completed"
    },
    "tags": []
   },
   "outputs": [],
   "source": [
    "model_2 = tf.keras.Sequential([\n",
    "    tf.keras.layers.Conv2D(32, (4, 4), activation=\"relu\",input_shape=(32, 32, 3)),\n",
    "    tf.keras.layers.BatchNormalization(),\n",
    "    tf.keras.layers.MaxPooling2D((2, 2)),\n",
    "    tf.keras.layers.BatchNormalization(),\n",
    "    tf.keras.layers.Dropout(0.5),\n",
    "    tf.keras.layers.Conv2D(32, (4, 4), activation=\"relu\",input_shape=(32, 32, 3)),\n",
    "    tf.keras.layers.BatchNormalization(),\n",
    "    tf.keras.layers.MaxPooling2D((2, 2)),\n",
    "    tf.keras.layers.BatchNormalization(),\n",
    "    tf.keras.layers.Dropout(0.5),\n",
    "    tf.keras.layers.Flatten(),\n",
    "    tf.keras.layers.Dense(128, activation='relu'),\n",
    "    tf.keras.layers.BatchNormalization(),\n",
    "    tf.keras.layers.Dense(units=10, activation='softmax')])"
   ]
  },
  {
   "cell_type": "code",
   "execution_count": 12,
   "id": "e9a11ff3",
   "metadata": {
    "execution": {
     "iopub.execute_input": "2023-12-16T11:13:24.791542Z",
     "iopub.status.busy": "2023-12-16T11:13:24.790676Z",
     "iopub.status.idle": "2023-12-16T11:13:25.965954Z",
     "shell.execute_reply": "2023-12-16T11:13:25.963916Z"
    },
    "papermill": {
     "duration": 2.724181,
     "end_time": "2023-12-16T11:13:25.968159",
     "exception": true,
     "start_time": "2023-12-16T11:13:23.243978",
     "status": "failed"
    },
    "tags": []
   },
   "outputs": [
    {
     "ename": "RuntimeError",
     "evalue": "You must compile your model before training/testing. Use `model.compile(optimizer, loss)`.",
     "output_type": "error",
     "traceback": [
      "\u001b[0;31m---------------------------------------------------------------------------\u001b[0m",
      "\u001b[0;31mRuntimeError\u001b[0m                              Traceback (most recent call last)",
      "Cell \u001b[0;32mIn[12], line 1\u001b[0m\n\u001b[0;32m----> 1\u001b[0m evaluation \u001b[38;5;241m=\u001b[39m \u001b[43mmodel_2\u001b[49m\u001b[38;5;241;43m.\u001b[39;49m\u001b[43mevaluate\u001b[49m\u001b[43m(\u001b[49m\u001b[43mX_test\u001b[49m\u001b[43m,\u001b[49m\u001b[43m \u001b[49m\u001b[43mY_test_en\u001b[49m\u001b[43m)\u001b[49m\n\u001b[1;32m      2\u001b[0m \u001b[38;5;28mprint\u001b[39m(\u001b[38;5;124m'\u001b[39m\u001b[38;5;124mTest Accuracy of Model_2(with more  filters): \u001b[39m\u001b[38;5;132;01m{}\u001b[39;00m\u001b[38;5;124m'\u001b[39m\u001b[38;5;241m.\u001b[39mformat(evaluation[\u001b[38;5;241m1\u001b[39m]))\n",
      "File \u001b[0;32m/opt/conda/lib/python3.10/site-packages/keras/src/utils/traceback_utils.py:70\u001b[0m, in \u001b[0;36mfilter_traceback.<locals>.error_handler\u001b[0;34m(*args, **kwargs)\u001b[0m\n\u001b[1;32m     67\u001b[0m     filtered_tb \u001b[38;5;241m=\u001b[39m _process_traceback_frames(e\u001b[38;5;241m.\u001b[39m__traceback__)\n\u001b[1;32m     68\u001b[0m     \u001b[38;5;66;03m# To get the full stack trace, call:\u001b[39;00m\n\u001b[1;32m     69\u001b[0m     \u001b[38;5;66;03m# `tf.debugging.disable_traceback_filtering()`\u001b[39;00m\n\u001b[0;32m---> 70\u001b[0m     \u001b[38;5;28;01mraise\u001b[39;00m e\u001b[38;5;241m.\u001b[39mwith_traceback(filtered_tb) \u001b[38;5;28;01mfrom\u001b[39;00m \u001b[38;5;28;01mNone\u001b[39;00m\n\u001b[1;32m     71\u001b[0m \u001b[38;5;28;01mfinally\u001b[39;00m:\n\u001b[1;32m     72\u001b[0m     \u001b[38;5;28;01mdel\u001b[39;00m filtered_tb\n",
      "File \u001b[0;32m/opt/conda/lib/python3.10/site-packages/keras/src/engine/training.py:3875\u001b[0m, in \u001b[0;36mModel._assert_compile_was_called\u001b[0;34m(self)\u001b[0m\n\u001b[1;32m   3869\u001b[0m \u001b[38;5;28;01mdef\u001b[39;00m \u001b[38;5;21m_assert_compile_was_called\u001b[39m(\u001b[38;5;28mself\u001b[39m):\n\u001b[1;32m   3870\u001b[0m     \u001b[38;5;66;03m# Checks whether `compile` has been called. If it has been called,\u001b[39;00m\n\u001b[1;32m   3871\u001b[0m     \u001b[38;5;66;03m# then the optimizer is set. This is different from whether the\u001b[39;00m\n\u001b[1;32m   3872\u001b[0m     \u001b[38;5;66;03m# model is compiled\u001b[39;00m\n\u001b[1;32m   3873\u001b[0m     \u001b[38;5;66;03m# (i.e. whether the model is built and its inputs/outputs are set).\u001b[39;00m\n\u001b[1;32m   3874\u001b[0m     \u001b[38;5;28;01mif\u001b[39;00m \u001b[38;5;129;01mnot\u001b[39;00m \u001b[38;5;28mself\u001b[39m\u001b[38;5;241m.\u001b[39m_is_compiled:\n\u001b[0;32m-> 3875\u001b[0m         \u001b[38;5;28;01mraise\u001b[39;00m \u001b[38;5;167;01mRuntimeError\u001b[39;00m(\n\u001b[1;32m   3876\u001b[0m             \u001b[38;5;124m\"\u001b[39m\u001b[38;5;124mYou must compile your model before \u001b[39m\u001b[38;5;124m\"\u001b[39m\n\u001b[1;32m   3877\u001b[0m             \u001b[38;5;124m\"\u001b[39m\u001b[38;5;124mtraining/testing. \u001b[39m\u001b[38;5;124m\"\u001b[39m\n\u001b[1;32m   3878\u001b[0m             \u001b[38;5;124m\"\u001b[39m\u001b[38;5;124mUse `model.compile(optimizer, loss)`.\u001b[39m\u001b[38;5;124m\"\u001b[39m\n\u001b[1;32m   3879\u001b[0m         )\n",
      "\u001b[0;31mRuntimeError\u001b[0m: You must compile your model before training/testing. Use `model.compile(optimizer, loss)`."
     ]
    }
   ],
   "source": [
    "evaluation = model_2.evaluate(X_test, Y_test_en)\n",
    "print('Test Accuracy of Model_2(with more  filters): {}'.format(evaluation[1]))"
   ]
  },
  {
   "cell_type": "code",
   "execution_count": null,
   "id": "32463eb6",
   "metadata": {
    "execution": {
     "iopub.execute_input": "2023-12-16T10:53:59.712457Z",
     "iopub.status.busy": "2023-12-16T10:53:59.711987Z",
     "iopub.status.idle": "2023-12-16T10:53:59.748113Z",
     "shell.execute_reply": "2023-12-16T10:53:59.746720Z",
     "shell.execute_reply.started": "2023-12-16T10:53:59.712425Z"
    },
    "papermill": {
     "duration": null,
     "end_time": null,
     "exception": null,
     "start_time": null,
     "status": "pending"
    },
    "tags": []
   },
   "outputs": [],
   "source": [
    "def plotloss(history_2):\n",
    "    plt.plot(history_2.history['loss'])\n",
    "    plt.plot(history_2.history['val_loss'])\n",
    "    plt.plot(history_2.history['accuracy'])\n",
    "    plt.xlabel('Epochs')\n",
    "    plt.ylabel('Loss')\n",
    "    plt.legend(['Train', 'Validation', 'Accuracy'])\n",
    "    plt.show()    \n",
    "    \n",
    "plotloss(history_2)\n"
   ]
  },
  {
   "cell_type": "markdown",
   "id": "9dab5c0e",
   "metadata": {
    "papermill": {
     "duration": null,
     "end_time": null,
     "exception": null,
     "start_time": null,
     "status": "pending"
    },
    "tags": []
   },
   "source": [
    "### "
   ]
  }
 ],
 "metadata": {
  "kaggle": {
   "accelerator": "none",
   "dataSources": [
    {
     "databundleVersionId": 31148,
     "sourceId": 3362,
     "sourceType": "competition"
    }
   ],
   "dockerImageVersionId": 30626,
   "isGpuEnabled": false,
   "isInternetEnabled": true,
   "language": "python",
   "sourceType": "notebook"
  },
  "kernelspec": {
   "display_name": "Python 3",
   "language": "python",
   "name": "python3"
  },
  "language_info": {
   "codemirror_mode": {
    "name": "ipython",
    "version": 3
   },
   "file_extension": ".py",
   "mimetype": "text/x-python",
   "name": "python",
   "nbconvert_exporter": "python",
   "pygments_lexer": "ipython3",
   "version": "3.10.12"
  },
  "papermill": {
   "default_parameters": {},
   "duration": 1040.967251,
   "end_time": "2023-12-16T11:13:30.944595",
   "environment_variables": {},
   "exception": true,
   "input_path": "__notebook__.ipynb",
   "output_path": "__notebook__.ipynb",
   "parameters": {},
   "start_time": "2023-12-16T10:56:09.977344",
   "version": "2.4.0"
  }
 },
 "nbformat": 4,
 "nbformat_minor": 5
}
